{
 "cells": [
  {
   "cell_type": "code",
   "execution_count": 3,
   "id": "bf0a15b2",
   "metadata": {},
   "outputs": [
    {
     "name": "stdout",
     "output_type": "stream",
     "text": [
      "Give me a number (form 1 to 7): 12\n",
      "Error, out of range\n"
     ]
    }
   ],
   "source": [
    "num = int(input(\"Give me a number (form 1 to 7): \"))\n",
    "if num == 1:\n",
    "    print(\"Monday\")\n",
    "elif num == 2:\n",
    "    print(\"Tuesday\")\n",
    "elif num == 3:\n",
    "    print(\"Wednesday\")\n",
    "elif num == 4:\n",
    "    print(\"Thursday\")\n",
    "elif num == 5:\n",
    "    print(\"Friday\")\n",
    "elif num == 6:\n",
    "    print(\"Saturday\")\n",
    "elif num == 7:\n",
    "    print(\"Sunday\")\n",
    "else:\n",
    "    print(\"Error, out of range\")"
   ]
  }
 ],
 "metadata": {
  "kernelspec": {
   "display_name": "Python 3 (ipykernel)",
   "language": "python",
   "name": "python3"
  },
  "language_info": {
   "codemirror_mode": {
    "name": "ipython",
    "version": 3
   },
   "file_extension": ".py",
   "mimetype": "text/x-python",
   "name": "python",
   "nbconvert_exporter": "python",
   "pygments_lexer": "ipython3",
   "version": "3.9.5"
  }
 },
 "nbformat": 4,
 "nbformat_minor": 5
}
